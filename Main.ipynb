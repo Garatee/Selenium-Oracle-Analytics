{
 "cells": [
  {
   "cell_type": "code",
   "execution_count": null,
   "metadata": {},
   "outputs": [],
   "source": [
    "# For mac to remove security issues: run xattr -d com.apple.quarantine <name-of-executable>\n",
    "# <name-of-executable> is chromedriver"
   ]
  },
  {
   "cell_type": "code",
   "execution_count": null,
   "metadata": {},
   "outputs": [],
   "source": [
    "from selenium import webdriver\n",
    "from selenium.webdriver.chrome.options import Options  \n",
    "import os\n",
    "import time\n",
    "\n",
    "download_path = \"/Users/kevin/Downloads\"\n",
    "oracle_analytics_site_url = os.environ.get('OAC_SITE_URL')\n",
    "oracle_analytics_username = os.environ.get('OAC_USERNAME')\n",
    "oracle_analytics_password = os.environ.get('OAC_PASSWORD')\n",
    "chrome_driver_binary_path = \"./chromedriver\"\n",
    "extension_path = \"./build.crx\"\n",
    "hidden_element_html_id = \"hidden_element_for_selenium\"\n",
    "example_sites_with_html_tables = [\n",
    "    \"https://www.worldometers.info/coronavirus/\",\n",
    "    \"https://www.nytimes.com/interactive/2020/us/california-coronavirus-cases.html\"\n",
    "]\n",
    "\n",
    "# this adds a trailing slash if not existing\n",
    "download_path = os.path.join(download_path, '')\n",
    "\n",
    "# Options and Adding Extensions\n",
    "options = Options()\n",
    "options.add_extension(extension_path)\n",
    "\n",
    "# Start selenium\n",
    "driver = webdriver.Chrome(chrome_driver_binary_path, options=options)\n",
    "\n",
    "# Implicit wait for 10 seconds\n",
    "driver.implicitly_wait(10)  \n",
    "    "
   ]
  },
  {
   "cell_type": "code",
   "execution_count": null,
   "metadata": {},
   "outputs": [],
   "source": [
    "# Visit Covid webpage\n",
    "driver.get(example_sites_with_html_tables[0])\n",
    "\n",
    "\n",
    "while True:\n",
    "    \n",
    "    # wait for use to click the extension\n",
    "    # watch if the hidden element is added\n",
    "    while len(driver.find_elements_by_id(hidden_element_html_id)) == 0:\n",
    "        time.sleep(1)\n",
    "\n",
    "    # get the element\n",
    "    csv_filename = driver.find_element_by_id(hidden_element_html_id).get_attribute('innerHTML')\n",
    "    \n",
    "    # redirect to oracle analytics\n",
    "    driver.get(oracle_analytics_site_url)\n",
    "    \n",
    "    # Log in\n",
    "    driver.find_element_by_id(\"idUser\").send_keys(oracle_analytics_username)\n",
    "    driver.find_element_by_id(\"idPassword\").send_keys(oracle_analytics_password)\n",
    "    time.sleep(1)\n",
    "    driver.find_element_by_id(\"btn_login\").click()\n",
    "    \n",
    "    \n",
    "    # Click the create button\n",
    "    driver.find_element_by_class_name(\"bitech-area-page-create-button\").click()\n",
    "    time.sleep(1)\n",
    "    \n",
    "    # Click the dataset button\n",
    "    driver.find_element_by_xpath(\"//button[div[span[contains(text(), 'Data Set')]]]\").click();\n",
    "    \n",
    "    # Get the input element\n",
    "    time.sleep(8)\n",
    "    uploadElement = driver.find_element_by_xpath(\"//form[@id='fileUploadCardff']//input[@type='file']\")\n",
    "    uploadElement.send_keys(download_path + csv_filename);\n",
    "    \n",
    "    \n",
    "    "
   ]
  },
  {
   "cell_type": "code",
   "execution_count": null,
   "metadata": {},
   "outputs": [],
   "source": []
  },
  {
   "cell_type": "code",
   "execution_count": null,
   "metadata": {},
   "outputs": [],
   "source": []
  }
 ],
 "metadata": {
  "kernelspec": {
   "display_name": "Python 3",
   "language": "python",
   "name": "python3"
  },
  "language_info": {
   "codemirror_mode": {
    "name": "ipython",
    "version": 3
   },
   "file_extension": ".py",
   "mimetype": "text/x-python",
   "name": "python",
   "nbconvert_exporter": "python",
   "pygments_lexer": "ipython3",
   "version": "3.6.8"
  }
 },
 "nbformat": 4,
 "nbformat_minor": 5
}
